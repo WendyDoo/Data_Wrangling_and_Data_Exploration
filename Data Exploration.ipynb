{
 "cells": [
  {
   "cell_type": "markdown",
   "id": "1bd0e364",
   "metadata": {},
   "source": [
    "### 1. Import libraries and read the dataset"
   ]
  },
  {
   "cell_type": "code",
   "execution_count": 1,
   "id": "49298d09",
   "metadata": {},
   "outputs": [],
   "source": [
    "# Import libraries\n",
    "import numpy as np \n",
    "import pandas as pd \n",
    "import seaborn as sns\n",
    "import matplotlib.pyplot as plt"
   ]
  },
  {
   "cell_type": "code",
   "execution_count": 2,
   "id": "2a95ebc1",
   "metadata": {},
   "outputs": [],
   "source": [
    "# Read the provided dataset\n",
    "df = pd.read_csv(\"space_missions1.csv\")"
   ]
  },
  {
   "cell_type": "code",
   "execution_count": 3,
   "id": "57d6a385",
   "metadata": {},
   "outputs": [
    {
     "data": {
      "text/html": [
       "<div>\n",
       "<style scoped>\n",
       "    .dataframe tbody tr th:only-of-type {\n",
       "        vertical-align: middle;\n",
       "    }\n",
       "\n",
       "    .dataframe tbody tr th {\n",
       "        vertical-align: top;\n",
       "    }\n",
       "\n",
       "    .dataframe thead th {\n",
       "        text-align: right;\n",
       "    }\n",
       "</style>\n",
       "<table border=\"1\" class=\"dataframe\">\n",
       "  <thead>\n",
       "    <tr style=\"text-align: right;\">\n",
       "      <th></th>\n",
       "      <th>Company</th>\n",
       "      <th>Location</th>\n",
       "      <th>Year</th>\n",
       "      <th>Time</th>\n",
       "      <th>Rocket</th>\n",
       "      <th>MissionStatus</th>\n",
       "      <th>RocketStatus</th>\n",
       "      <th>Price</th>\n",
       "      <th>Mission</th>\n",
       "    </tr>\n",
       "  </thead>\n",
       "  <tbody>\n",
       "    <tr>\n",
       "      <th>0</th>\n",
       "      <td>AEB</td>\n",
       "      <td>VLS Pad, Alcântara Launch Center, Maranhão, Br...</td>\n",
       "      <td>1997</td>\n",
       "      <td>NaN</td>\n",
       "      <td>VLS-1</td>\n",
       "      <td>0</td>\n",
       "      <td>Retired</td>\n",
       "      <td>NaN</td>\n",
       "      <td>SCD-2A</td>\n",
       "    </tr>\n",
       "    <tr>\n",
       "      <th>1</th>\n",
       "      <td>AEB</td>\n",
       "      <td>VLS Pad, Alcântara Launch Center, Maranhão, Br...</td>\n",
       "      <td>1999</td>\n",
       "      <td>1899-12-30 19:40:00</td>\n",
       "      <td>VLS-1</td>\n",
       "      <td>0</td>\n",
       "      <td>Retired</td>\n",
       "      <td>NaN</td>\n",
       "      <td>SACI-2</td>\n",
       "    </tr>\n",
       "    <tr>\n",
       "      <th>2</th>\n",
       "      <td>AEB</td>\n",
       "      <td>VLS Pad, Alcântara Launch Center, Maranhão, Br...</td>\n",
       "      <td>2003</td>\n",
       "      <td>NaN</td>\n",
       "      <td>VLS-1</td>\n",
       "      <td>0</td>\n",
       "      <td>Retired</td>\n",
       "      <td>NaN</td>\n",
       "      <td>SATEC, UNOSAT</td>\n",
       "    </tr>\n",
       "    <tr>\n",
       "      <th>3</th>\n",
       "      <td>AMBA</td>\n",
       "      <td>LA-5B, RAAF Woomera Range Complex, Australia</td>\n",
       "      <td>1967</td>\n",
       "      <td>NaN</td>\n",
       "      <td>Redstone Sparta</td>\n",
       "      <td>1</td>\n",
       "      <td>Retired</td>\n",
       "      <td>NaN</td>\n",
       "      <td>WRESAT</td>\n",
       "    </tr>\n",
       "    <tr>\n",
       "      <th>4</th>\n",
       "      <td>AMBA</td>\n",
       "      <td>LC-26A, Cape Canaveral AFS, Florida, USA</td>\n",
       "      <td>1958</td>\n",
       "      <td>1899-12-30 03:48:00</td>\n",
       "      <td>Juno I</td>\n",
       "      <td>1</td>\n",
       "      <td>Retired</td>\n",
       "      <td>NaN</td>\n",
       "      <td>Explorer 1</td>\n",
       "    </tr>\n",
       "  </tbody>\n",
       "</table>\n",
       "</div>"
      ],
      "text/plain": [
       "  Company                                           Location  Year  \\\n",
       "0     AEB  VLS Pad, Alcântara Launch Center, Maranhão, Br...  1997   \n",
       "1     AEB  VLS Pad, Alcântara Launch Center, Maranhão, Br...  1999   \n",
       "2     AEB  VLS Pad, Alcântara Launch Center, Maranhão, Br...  2003   \n",
       "3    AMBA       LA-5B, RAAF Woomera Range Complex, Australia  1967   \n",
       "4    AMBA           LC-26A, Cape Canaveral AFS, Florida, USA  1958   \n",
       "\n",
       "                  Time           Rocket  MissionStatus RocketStatus  Price  \\\n",
       "0                  NaN            VLS-1              0      Retired    NaN   \n",
       "1  1899-12-30 19:40:00            VLS-1              0      Retired    NaN   \n",
       "2                  NaN            VLS-1              0      Retired    NaN   \n",
       "3                  NaN  Redstone Sparta              1      Retired    NaN   \n",
       "4  1899-12-30 03:48:00           Juno I              1      Retired    NaN   \n",
       "\n",
       "         Mission  \n",
       "0         SCD-2A  \n",
       "1         SACI-2  \n",
       "2  SATEC, UNOSAT  \n",
       "3         WRESAT  \n",
       "4     Explorer 1  "
      ]
     },
     "execution_count": 3,
     "metadata": {},
     "output_type": "execute_result"
    }
   ],
   "source": [
    "# Show 5 first rows in the dataset\n",
    "df.head(5)"
   ]
  },
  {
   "cell_type": "markdown",
   "id": "e75f2553",
   "metadata": {},
   "source": [
    "### 2. Explore data "
   ]
  },
  {
   "cell_type": "code",
   "execution_count": 4,
   "id": "de849df3",
   "metadata": {},
   "outputs": [
    {
     "data": {
      "text/plain": [
       "(4626, 9)"
      ]
     },
     "execution_count": 4,
     "metadata": {},
     "output_type": "execute_result"
    }
   ],
   "source": [
    "# Dimensionality of the data\n",
    "df.shape"
   ]
  },
  {
   "cell_type": "markdown",
   "id": "bbceee5d",
   "metadata": {},
   "source": [
    "We can now know that there are 4626 rows and 9 columns in the dataset."
   ]
  },
  {
   "cell_type": "code",
   "execution_count": 5,
   "id": "36ee3ec8",
   "metadata": {},
   "outputs": [
    {
     "name": "stdout",
     "output_type": "stream",
     "text": [
      "<class 'pandas.core.frame.DataFrame'>\n",
      "RangeIndex: 4626 entries, 0 to 4625\n",
      "Data columns (total 9 columns):\n",
      " #   Column         Non-Null Count  Dtype  \n",
      "---  ------         --------------  -----  \n",
      " 0   Company        4626 non-null   object \n",
      " 1   Location       4626 non-null   object \n",
      " 2   Year           4626 non-null   int64  \n",
      " 3   Time           4501 non-null   object \n",
      " 4   Rocket         4626 non-null   object \n",
      " 5   MissionStatus  4626 non-null   int64  \n",
      " 6   RocketStatus   4626 non-null   object \n",
      " 7   Price          1264 non-null   float64\n",
      " 8   Mission        4626 non-null   object \n",
      "dtypes: float64(1), int64(2), object(6)\n",
      "memory usage: 325.4+ KB\n"
     ]
    }
   ],
   "source": [
    "# General information of the data \n",
    "df.info()"
   ]
  },
  {
   "cell_type": "code",
   "execution_count": 6,
   "id": "df80afd0",
   "metadata": {},
   "outputs": [
    {
     "data": {
      "text/html": [
       "<div>\n",
       "<style scoped>\n",
       "    .dataframe tbody tr th:only-of-type {\n",
       "        vertical-align: middle;\n",
       "    }\n",
       "\n",
       "    .dataframe tbody tr th {\n",
       "        vertical-align: top;\n",
       "    }\n",
       "\n",
       "    .dataframe thead th {\n",
       "        text-align: right;\n",
       "    }\n",
       "</style>\n",
       "<table border=\"1\" class=\"dataframe\">\n",
       "  <thead>\n",
       "    <tr style=\"text-align: right;\">\n",
       "      <th></th>\n",
       "      <th>Year</th>\n",
       "      <th>MissionStatus</th>\n",
       "      <th>Price</th>\n",
       "    </tr>\n",
       "  </thead>\n",
       "  <tbody>\n",
       "    <tr>\n",
       "      <th>count</th>\n",
       "      <td>4626.000000</td>\n",
       "      <td>4626.000000</td>\n",
       "      <td>1264.000000</td>\n",
       "    </tr>\n",
       "    <tr>\n",
       "      <th>mean</th>\n",
       "      <td>1989.611760</td>\n",
       "      <td>0.899265</td>\n",
       "      <td>128.407437</td>\n",
       "    </tr>\n",
       "    <tr>\n",
       "      <th>std</th>\n",
       "      <td>19.373522</td>\n",
       "      <td>0.301010</td>\n",
       "      <td>256.848149</td>\n",
       "    </tr>\n",
       "    <tr>\n",
       "      <th>min</th>\n",
       "      <td>1957.000000</td>\n",
       "      <td>0.000000</td>\n",
       "      <td>2.000000</td>\n",
       "    </tr>\n",
       "    <tr>\n",
       "      <th>25%</th>\n",
       "      <td>1973.000000</td>\n",
       "      <td>1.000000</td>\n",
       "      <td>30.000000</td>\n",
       "    </tr>\n",
       "    <tr>\n",
       "      <th>50%</th>\n",
       "      <td>1987.000000</td>\n",
       "      <td>1.000000</td>\n",
       "      <td>63.000000</td>\n",
       "    </tr>\n",
       "    <tr>\n",
       "      <th>75%</th>\n",
       "      <td>2007.000000</td>\n",
       "      <td>1.000000</td>\n",
       "      <td>116.250000</td>\n",
       "    </tr>\n",
       "    <tr>\n",
       "      <th>max</th>\n",
       "      <td>2022.000000</td>\n",
       "      <td>1.000000</td>\n",
       "      <td>5000.000000</td>\n",
       "    </tr>\n",
       "  </tbody>\n",
       "</table>\n",
       "</div>"
      ],
      "text/plain": [
       "              Year  MissionStatus        Price\n",
       "count  4626.000000    4626.000000  1264.000000\n",
       "mean   1989.611760       0.899265   128.407437\n",
       "std      19.373522       0.301010   256.848149\n",
       "min    1957.000000       0.000000     2.000000\n",
       "25%    1973.000000       1.000000    30.000000\n",
       "50%    1987.000000       1.000000    63.000000\n",
       "75%    2007.000000       1.000000   116.250000\n",
       "max    2022.000000       1.000000  5000.000000"
      ]
     },
     "execution_count": 6,
     "metadata": {},
     "output_type": "execute_result"
    }
   ],
   "source": [
    "# Distribution of the numerical values\n",
    "df.describe()"
   ]
  },
  {
   "cell_type": "markdown",
   "id": "6bc4edf5",
   "metadata": {},
   "source": [
    "The observation can tell several information about data:\n",
    "\n",
    "* Total samples are 4626 in the above columns, no missing values. \n",
    "\n",
    "* The MissionStatus column contains 0 or 1 values.\n",
    "\n",
    "* The Price fluctuates as high as 5000 and as low as 2.\n",
    "\n",
    "* The data was collected from 1957 to 2022.\n"
   ]
  },
  {
   "cell_type": "code",
   "execution_count": 7,
   "id": "4fc06564",
   "metadata": {},
   "outputs": [
    {
     "data": {
      "text/html": [
       "<div>\n",
       "<style scoped>\n",
       "    .dataframe tbody tr th:only-of-type {\n",
       "        vertical-align: middle;\n",
       "    }\n",
       "\n",
       "    .dataframe tbody tr th {\n",
       "        vertical-align: top;\n",
       "    }\n",
       "\n",
       "    .dataframe thead th {\n",
       "        text-align: right;\n",
       "    }\n",
       "</style>\n",
       "<table border=\"1\" class=\"dataframe\">\n",
       "  <thead>\n",
       "    <tr style=\"text-align: right;\">\n",
       "      <th></th>\n",
       "      <th>Company</th>\n",
       "      <th>Location</th>\n",
       "      <th>Time</th>\n",
       "      <th>Rocket</th>\n",
       "      <th>RocketStatus</th>\n",
       "      <th>Mission</th>\n",
       "    </tr>\n",
       "  </thead>\n",
       "  <tbody>\n",
       "    <tr>\n",
       "      <th>count</th>\n",
       "      <td>4626</td>\n",
       "      <td>4626</td>\n",
       "      <td>4501</td>\n",
       "      <td>4626</td>\n",
       "      <td>4626</td>\n",
       "      <td>4626</td>\n",
       "    </tr>\n",
       "    <tr>\n",
       "      <th>unique</th>\n",
       "      <td>62</td>\n",
       "      <td>158</td>\n",
       "      <td>1300</td>\n",
       "      <td>370</td>\n",
       "      <td>2</td>\n",
       "      <td>4555</td>\n",
       "    </tr>\n",
       "    <tr>\n",
       "      <th>top</th>\n",
       "      <td>RVSN USSR</td>\n",
       "      <td>Site 31/6, Baikonur Cosmodrome, Kazakhstan</td>\n",
       "      <td>1899-12-30 12:00:00</td>\n",
       "      <td>Cosmos-3M (11K65M)</td>\n",
       "      <td>Retired</td>\n",
       "      <td>DSP</td>\n",
       "    </tr>\n",
       "    <tr>\n",
       "      <th>freq</th>\n",
       "      <td>1777</td>\n",
       "      <td>251</td>\n",
       "      <td>52</td>\n",
       "      <td>446</td>\n",
       "      <td>3618</td>\n",
       "      <td>8</td>\n",
       "    </tr>\n",
       "  </tbody>\n",
       "</table>\n",
       "</div>"
      ],
      "text/plain": [
       "          Company                                    Location  \\\n",
       "count        4626                                        4626   \n",
       "unique         62                                         158   \n",
       "top     RVSN USSR  Site 31/6, Baikonur Cosmodrome, Kazakhstan   \n",
       "freq         1777                                         251   \n",
       "\n",
       "                       Time              Rocket RocketStatus Mission  \n",
       "count                  4501                4626         4626    4626  \n",
       "unique                 1300                 370            2    4555  \n",
       "top     1899-12-30 12:00:00  Cosmos-3M (11K65M)      Retired     DSP  \n",
       "freq                     52                 446         3618       8  "
      ]
     },
     "execution_count": 7,
     "metadata": {},
     "output_type": "execute_result"
    }
   ],
   "source": [
    "# Distribution of the categorical variables\n",
    "df.describe(include=['O'])"
   ]
  },
  {
   "cell_type": "code",
   "execution_count": 8,
   "id": "a09c38c9",
   "metadata": {},
   "outputs": [
    {
     "data": {
      "text/plain": [
       "Company             0\n",
       "Location            0\n",
       "Year                0\n",
       "Time              125\n",
       "Rocket              0\n",
       "MissionStatus       0\n",
       "RocketStatus        0\n",
       "Price            3362\n",
       "Mission             0\n",
       "dtype: int64"
      ]
     },
     "execution_count": 8,
     "metadata": {},
     "output_type": "execute_result"
    }
   ],
   "source": [
    "# Check if any missing values in the file\n",
    "df.isnull().sum()"
   ]
  },
  {
   "cell_type": "code",
   "execution_count": 9,
   "id": "45f164c2",
   "metadata": {},
   "outputs": [
    {
     "data": {
      "image/png": "[encoded data removed]",
      "text/plain": [
       "<Figure size 1080x576 with 1 Axes>"
      ]
     },
     "metadata": {
      "needs_background": "light"
     },
     "output_type": "display_data"
    }
   ],
   "source": [
    "# Plot the box plot to see generally the outlier points in columns \n",
    "%matplotlib inline\n",
    "bp = df.boxplot(figsize=(15,8))"
   ]
  },
  {
   "cell_type": "code",
   "execution_count": 10,
   "id": "e73ce54c",
   "metadata": {
    "scrolled": true
   },
   "outputs": [
    {
     "data": {
      "text/html": [
       "<div>\n",
       "<style scoped>\n",
       "    .dataframe tbody tr th:only-of-type {\n",
       "        vertical-align: middle;\n",
       "    }\n",
       "\n",
       "    .dataframe tbody tr th {\n",
       "        vertical-align: top;\n",
       "    }\n",
       "\n",
       "    .dataframe thead th {\n",
       "        text-align: right;\n",
       "    }\n",
       "</style>\n",
       "<table border=\"1\" class=\"dataframe\">\n",
       "  <thead>\n",
       "    <tr style=\"text-align: right;\">\n",
       "      <th></th>\n",
       "      <th>Company</th>\n",
       "      <th>Location</th>\n",
       "      <th>Year</th>\n",
       "      <th>Time</th>\n",
       "      <th>Rocket</th>\n",
       "      <th>MissionStatus</th>\n",
       "      <th>RocketStatus</th>\n",
       "      <th>Price</th>\n",
       "      <th>Mission</th>\n",
       "    </tr>\n",
       "  </thead>\n",
       "  <tbody>\n",
       "    <tr>\n",
       "      <th>477</th>\n",
       "      <td>Boeing</td>\n",
       "      <td>SLC-37B, Cape Canaveral AFS, Florida, USA</td>\n",
       "      <td>2004</td>\n",
       "      <td>1899-12-30 21:50:00</td>\n",
       "      <td>Delta IV Heavy</td>\n",
       "      <td>0</td>\n",
       "      <td>Active</td>\n",
       "      <td>350.0</td>\n",
       "      <td>DemoSat and 3CS-1 &amp; 2</td>\n",
       "    </tr>\n",
       "    <tr>\n",
       "      <th>1699</th>\n",
       "      <td>NASA</td>\n",
       "      <td>LC-39A, Kennedy Space Center, Florida, USA</td>\n",
       "      <td>1967</td>\n",
       "      <td>1899-12-30 12:00:00</td>\n",
       "      <td>Saturn V</td>\n",
       "      <td>1</td>\n",
       "      <td>Retired</td>\n",
       "      <td>1160.0</td>\n",
       "      <td>Apollo 4</td>\n",
       "    </tr>\n",
       "    <tr>\n",
       "      <th>1700</th>\n",
       "      <td>NASA</td>\n",
       "      <td>LC-39A, Kennedy Space Center, Florida, USA</td>\n",
       "      <td>1968</td>\n",
       "      <td>1899-12-30 12:00:00</td>\n",
       "      <td>Saturn V</td>\n",
       "      <td>0</td>\n",
       "      <td>Retired</td>\n",
       "      <td>1160.0</td>\n",
       "      <td>Apollo 6</td>\n",
       "    </tr>\n",
       "    <tr>\n",
       "      <th>1701</th>\n",
       "      <td>NASA</td>\n",
       "      <td>LC-39A, Kennedy Space Center, Florida, USA</td>\n",
       "      <td>1968</td>\n",
       "      <td>1899-12-30 12:51:00</td>\n",
       "      <td>Saturn V</td>\n",
       "      <td>1</td>\n",
       "      <td>Retired</td>\n",
       "      <td>1160.0</td>\n",
       "      <td>Apollo 8</td>\n",
       "    </tr>\n",
       "    <tr>\n",
       "      <th>1702</th>\n",
       "      <td>NASA</td>\n",
       "      <td>LC-39A, Kennedy Space Center, Florida, USA</td>\n",
       "      <td>1969</td>\n",
       "      <td>1899-12-30 13:32:00</td>\n",
       "      <td>Saturn V</td>\n",
       "      <td>1</td>\n",
       "      <td>Retired</td>\n",
       "      <td>1160.0</td>\n",
       "      <td>Apollo 11</td>\n",
       "    </tr>\n",
       "    <tr>\n",
       "      <th>...</th>\n",
       "      <td>...</td>\n",
       "      <td>...</td>\n",
       "      <td>...</td>\n",
       "      <td>...</td>\n",
       "      <td>...</td>\n",
       "      <td>...</td>\n",
       "      <td>...</td>\n",
       "      <td>...</td>\n",
       "      <td>...</td>\n",
       "    </tr>\n",
       "    <tr>\n",
       "      <th>4125</th>\n",
       "      <td>ULA</td>\n",
       "      <td>SLC-37B, Cape Canaveral SFS, Florida, USA</td>\n",
       "      <td>2020</td>\n",
       "      <td>1899-12-30 01:09:00</td>\n",
       "      <td>Delta IV Heavy</td>\n",
       "      <td>1</td>\n",
       "      <td>Active</td>\n",
       "      <td>350.0</td>\n",
       "      <td>NROL-44</td>\n",
       "    </tr>\n",
       "    <tr>\n",
       "      <th>4212</th>\n",
       "      <td>ULA</td>\n",
       "      <td>SLC-6, Vandenberg AFB, California, USA</td>\n",
       "      <td>2011</td>\n",
       "      <td>1899-12-30 21:10:00</td>\n",
       "      <td>Delta IV Heavy</td>\n",
       "      <td>1</td>\n",
       "      <td>Active</td>\n",
       "      <td>350.0</td>\n",
       "      <td>NROL-49</td>\n",
       "    </tr>\n",
       "    <tr>\n",
       "      <th>4214</th>\n",
       "      <td>ULA</td>\n",
       "      <td>SLC-6, Vandenberg AFB, California, USA</td>\n",
       "      <td>2013</td>\n",
       "      <td>1899-12-30 18:03:00</td>\n",
       "      <td>Delta IV Heavy</td>\n",
       "      <td>1</td>\n",
       "      <td>Active</td>\n",
       "      <td>350.0</td>\n",
       "      <td>NROL-65</td>\n",
       "    </tr>\n",
       "    <tr>\n",
       "      <th>4217</th>\n",
       "      <td>ULA</td>\n",
       "      <td>SLC-6, Vandenberg AFB, California, USA</td>\n",
       "      <td>2019</td>\n",
       "      <td>1899-12-30 19:10:00</td>\n",
       "      <td>Delta IV Heavy</td>\n",
       "      <td>1</td>\n",
       "      <td>Active</td>\n",
       "      <td>350.0</td>\n",
       "      <td>NROL-71</td>\n",
       "    </tr>\n",
       "    <tr>\n",
       "      <th>4218</th>\n",
       "      <td>ULA</td>\n",
       "      <td>SLC-6, Vandenberg SFB, California, USA</td>\n",
       "      <td>2021</td>\n",
       "      <td>1899-12-30 20:47:00</td>\n",
       "      <td>Delta IV Heavy</td>\n",
       "      <td>1</td>\n",
       "      <td>Active</td>\n",
       "      <td>350.0</td>\n",
       "      <td>NROL-82</td>\n",
       "    </tr>\n",
       "  </tbody>\n",
       "</table>\n",
       "<p>164 rows × 9 columns</p>\n",
       "</div>"
      ],
      "text/plain": [
       "     Company                                    Location  Year  \\\n",
       "477   Boeing   SLC-37B, Cape Canaveral AFS, Florida, USA  2004   \n",
       "1699    NASA  LC-39A, Kennedy Space Center, Florida, USA  1967   \n",
       "1700    NASA  LC-39A, Kennedy Space Center, Florida, USA  1968   \n",
       "1701    NASA  LC-39A, Kennedy Space Center, Florida, USA  1968   \n",
       "1702    NASA  LC-39A, Kennedy Space Center, Florida, USA  1969   \n",
       "...      ...                                         ...   ...   \n",
       "4125     ULA   SLC-37B, Cape Canaveral SFS, Florida, USA  2020   \n",
       "4212     ULA      SLC-6, Vandenberg AFB, California, USA  2011   \n",
       "4214     ULA      SLC-6, Vandenberg AFB, California, USA  2013   \n",
       "4217     ULA      SLC-6, Vandenberg AFB, California, USA  2019   \n",
       "4218     ULA      SLC-6, Vandenberg SFB, California, USA  2021   \n",
       "\n",
       "                     Time          Rocket  MissionStatus RocketStatus   Price  \\\n",
       "477   1899-12-30 21:50:00  Delta IV Heavy              0       Active   350.0   \n",
       "1699  1899-12-30 12:00:00        Saturn V              1      Retired  1160.0   \n",
       "1700  1899-12-30 12:00:00        Saturn V              0      Retired  1160.0   \n",
       "1701  1899-12-30 12:51:00        Saturn V              1      Retired  1160.0   \n",
       "1702  1899-12-30 13:32:00        Saturn V              1      Retired  1160.0   \n",
       "...                   ...             ...            ...          ...     ...   \n",
       "4125  1899-12-30 01:09:00  Delta IV Heavy              1       Active   350.0   \n",
       "4212  1899-12-30 21:10:00  Delta IV Heavy              1       Active   350.0   \n",
       "4214  1899-12-30 18:03:00  Delta IV Heavy              1       Active   350.0   \n",
       "4217  1899-12-30 19:10:00  Delta IV Heavy              1       Active   350.0   \n",
       "4218  1899-12-30 20:47:00  Delta IV Heavy              1       Active   350.0   \n",
       "\n",
       "                    Mission  \n",
       "477   DemoSat and 3CS-1 & 2  \n",
       "1699               Apollo 4  \n",
       "1700               Apollo 6  \n",
       "1701               Apollo 8  \n",
       "1702              Apollo 11  \n",
       "...                     ...  \n",
       "4125                NROL-44  \n",
       "4212                NROL-49  \n",
       "4214                NROL-65  \n",
       "4217                NROL-71  \n",
       "4218                NROL-82  \n",
       "\n",
       "[164 rows x 9 columns]"
      ]
     },
     "execution_count": 10,
     "metadata": {},
     "output_type": "execute_result"
    }
   ],
   "source": [
    "# Calculate the lower and upper bounds for outliers\n",
    "Q1 = df['Price'].quantile(0.25)\n",
    "Q3 = df['Price'].quantile(0.75)\n",
    "IQR = Q3 - Q1\n",
    "lower_bound = Q1 - 1.5 * IQR\n",
    "upper_bound = Q3 + 1.5 * IQR\n",
    "\n",
    "# Extract outliers from the DataFrame\n",
    "outliers_df = df[(df['Price'] < lower_bound) | (df['Price'] > upper_bound)]\n",
    "\n",
    "# Display the outlier values\n",
    "outliers_df"
   ]
  },
  {
   "cell_type": "markdown",
   "id": "9d4f8658",
   "metadata": {},
   "source": [
    "In this section, we are exploring outlier values in the dataset by calculating upper quantile and lower quantile. The outliers will be identified if there values are out of the lower and upper range. After writing codes, there are 164 rows supposed to be outliers in this current dataset. "
   ]
  },
  {
   "cell_type": "code",
   "execution_count": 11,
   "id": "64196b1f",
   "metadata": {},
   "outputs": [
    {
     "data": {
      "text/plain": [
       "0"
      ]
     },
     "execution_count": 11,
     "metadata": {},
     "output_type": "execute_result"
    }
   ],
   "source": [
    "# Check if any duplicated values in the dataset\n",
    "df.duplicated().sum()"
   ]
  },
  {
   "cell_type": "markdown",
   "id": "cc351543",
   "metadata": {},
   "source": [
    "### 3. Data Visualisation"
   ]
  },
  {
   "cell_type": "code",
   "execution_count": 12,
   "id": "5bc9d01b",
   "metadata": {
    "scrolled": true
   },
   "outputs": [
    {
     "data": {
      "image/png": "[encoded data removed]",
      "text/plain": [
       "<Figure size 720x432 with 1 Axes>"
      ]
     },
     "metadata": {
      "needs_background": "light"
     },
     "output_type": "display_data"
    }
   ],
   "source": [
    "\n",
    "# Convert the 'Year' column to a datetime object with the 'Year' format\n",
    "df['Year'] = pd.to_datetime(df['Year'], format='%Y')\n",
    "\n",
    "# Group the data by year and count the number of missions per year\n",
    "missions_per_year = df.groupby(df['Year'].dt.year)['Year'].count()\n",
    "\n",
    "# Create a line plot using matplotlib\n",
    "plt.figure(figsize=(10, 6))  # Adjust the figure size if needed\n",
    "plt.plot(missions_per_year.index, missions_per_year.values, marker='o', linestyle='-', color='deepskyblue')\n",
    "plt.title('Global Space Mission Trends Over Time')\n",
    "plt.xlabel('Year')\n",
    "plt.ylabel('Number of Space Missions By Year')\n",
    "plt.grid(True)\n",
    "plt.show()\n"
   ]
  },
  {
   "cell_type": "markdown",
   "id": "b2471281",
   "metadata": {},
   "source": [
    "The line graph presents a comprehensive overview of global space mission trends over the years, revealing noteworthy patterns and milestones. From the graph, we observe a steady growth in the number of space missions conducted globally over the past few decades, reflecting the increasing interest and investment in space exploration.The graph highlights a peak in the number of missions during the late 1960s, 1970s which corresponds to the historic Apollo moon landings and also during 2020s. "
   ]
  },
  {
   "cell_type": "code",
   "execution_count": 13,
   "id": "6fde5d7f",
   "metadata": {},
   "outputs": [
    {
     "data": {
      "image/png": "[encoded data removed]",
      "text/plain": [
       "<Figure size 432x288 with 1 Axes>"
      ]
     },
     "metadata": {
      "needs_background": "light"
     },
     "output_type": "display_data"
    }
   ],
   "source": [
    "import pandas as pd\n",
    "import matplotlib.pyplot as plt\n",
    "\n",
    "# Dataset\n",
    "most_active_companies = pd.DataFrame(df)\n",
    "\n",
    "# Get the top 10 most active companies and their mission counts\n",
    "most_active_companies = df['Company'].value_counts().nlargest(10).reset_index()\n",
    "most_active_companies.columns = ['Company', 'Number of Missions']\n",
    "\n",
    "# Sort values in the column \n",
    "most_active_companies = most_active_companies.sort_values(by='Number of Missions', ascending=False)\n",
    "\n",
    "# Create a bar plot using Matplotlib\n",
    "plt.bar(most_active_companies['Company'], most_active_companies['Number of Missions'], color='skyblue')\n",
    "plt.title('Top 10 Most Active Companies in Space Missions')\n",
    "plt.xlabel('Company')\n",
    "plt.ylabel('Number of Missions')\n",
    "\n",
    "# Rotate x-axis labels for better readability\n",
    "plt.xticks(rotation=45, ha='right')\n",
    "\n",
    "# Show the plot\n",
    "plt.show()\n"
   ]
  },
  {
   "cell_type": "markdown",
   "id": "b42baa0b",
   "metadata": {},
   "source": [
    "The bar chart offers valuable insights into the landscape of space missions, highlighting the companies that have played pivotal roles in advancing space exploration. RVSN USSR secures the top position, signifying its historical significance in space missions. CASC, Arianespace, General Dynamics, VKS RF, NASA, SpaceX, US Air Force, ULA, Boeing achieved mainly similar values. The chart highlights the vibrant and competitive nature of the space industry, where various organizations collaborate and compete to achieve milestones in space exploration."
   ]
  },
  {
   "cell_type": "code",
   "execution_count": 14,
   "id": "0f24f944",
   "metadata": {},
   "outputs": [
    {
     "data": {
      "image/png": "[encoded data removed]",
      "text/plain": [
       "<Figure size 720x432 with 2 Axes>"
      ]
     },
     "metadata": {
      "needs_background": "light"
     },
     "output_type": "display_data"
    }
   ],
   "source": [
    "\n",
    "# Pivot the data to create a table of mission outcomes by company\n",
    "company_mission_outcomes = df.pivot_table(index='Company', columns='MissionStatus', \n",
    "                                          values='Mission', aggfunc='count', fill_value=0)\n",
    "\n",
    "# Create a heatmap using Seaborn\n",
    "plt.figure(figsize=(10, 6))\n",
    "sns.heatmap(company_mission_outcomes, cmap='coolwarm', fmt='d')\n",
    "\n",
    "plt.title('Mission Outcomes by Company')\n",
    "plt.xlabel('Mission Outcome')\n",
    "plt.ylabel('Company')\n",
    "\n",
    "plt.show()\n"
   ]
  },
  {
   "cell_type": "markdown",
   "id": "960af3a0",
   "metadata": {},
   "source": [
    "The heatmap displays the mission outcomes of each company. The darker colour presents higher numbers of outcomes achieved by the company, and the lighter colour presents lower numbers of outcomes achieved by the company. We can see that RVSN USSR company got the highest mission results, with 1614. Most of companies got a small number of mission outcomes, with lower than 10 results. In addition, three companies achieved good outcomes, with higher than 200, inlcuding Galactic Energy, CASC, Arianespace. "
   ]
  },
  {
   "cell_type": "code",
   "execution_count": 15,
   "id": "65a3ebc6",
   "metadata": {},
   "outputs": [
    {
     "data": {
      "image/png": "[encoded data removed]",
      "text/plain": [
       "<Figure size 720x432 with 1 Axes>"
      ]
     },
     "metadata": {
      "needs_background": "light"
     },
     "output_type": "display_data"
    }
   ],
   "source": [
    "\n",
    "# Create a customized scatter plot using Matplotlib\n",
    "plt.figure(figsize=(10, 6))\n",
    "colors = df['MissionStatus'].map({1: 'green', 0: 'red'})\n",
    "plt.scatter(df['Price'], df['MissionStatus'], c=colors, alpha=0.8)\n",
    "\n",
    "plt.title('Correlation between Rocket Price and Mission Success')\n",
    "plt.xlabel('Rocket Price')\n",
    "plt.ylabel('Mission Success Rate')\n",
    "\n",
    "# Customize the layout\n",
    "plt.grid(False)\n",
    "\n",
    "# Show the plot\n",
    "plt.show()\n"
   ]
  }
 ],
 "metadata": {
  "kernelspec": {
   "display_name": "Python 3 (ipykernel)",
   "language": "python",
   "name": "python3"
  },
  "language_info": {
   "codemirror_mode": {
    "name": "ipython",
    "version": 3
   },
   "file_extension": ".py",
   "mimetype": "text/x-python",
   "name": "python",
   "nbconvert_exporter": "python",
   "pygments_lexer": "ipython3",
   "version": "3.8.12"
  }
 },
 "nbformat": 4,
 "nbformat_minor": 5
}
